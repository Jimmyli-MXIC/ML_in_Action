{
 "cells": [
  {
   "cell_type": "code",
   "execution_count": 1,
   "metadata": {},
   "outputs": [],
   "source": [
    "from numpy import *  #科学计算包numpy\n",
    "import numpy as np\n",
    "import operator      #运算符模块\n",
    "import sys\n",
    "#k-近邻算法\n",
    "# sys.path.append('/home/jimmyli/mlpractice/机器学习实战/')\n",
    "#创建数据集\n",
    "def createDataSet():\n",
    "    group=array([[1.0,1.1],[1.0,1.0],[0,0],[0,0.1]])\n",
    "    labels=['A','A','B','B']\n",
    "    return group,labels\n",
    "\n",
    "#计算距离\n",
    "def classify0(inX,dataSet,labels,k):\n",
    "    dataSetSize=dataSet.shape[0]   #shape读取数据矩阵第一维度的长度\n",
    "    diffMat = tile(inX, (dataSetSize, 1)) - dataSet  #tile重复数组inX，有dataSet行 1个dataSet列，减法计算差值\n",
    "    sqDiffMat=diffMat**2 #**是幂运算的\"\"意思，这里用的欧式距离\n",
    "    sqDisttances=sqDiffMat.sum(axis=1) #普通sum默认参数为axis=0为普通相加，axis=1为一行的行向量相加\n",
    "    distances=sqDisttances**0.5\n",
    "    sortedDistIndicies=distances.argsort() #argsort返回数值从小到大的索引值（数组索引0,1,2,3）\n",
    " #选择距离最小的k个点\n",
    "    classCount={}\n",
    "    for i in range(k):\n",
    "        voteIlabel=labels[sortedDistIndicies[i]] #根据排序结果的索引值返回靠近的前k个标签\n",
    "        classCount[voteIlabel]=classCount.get(voteIlabel,0)+1 #各个标签出现频率\n",
    "    sortedClassCount = sorted(classCount.items(), key=operator.itemgetter(1), reverse=True) #排序频率\n",
    "    #!!!!!  classCount.iteritems()修改为classCount.items()\n",
    "    #sorted(iterable, cmp=None, key=None, reverse=False) --> new sorted list。\n",
    "    # reverse默认升序 key关键字排序itemgetter（1）按照第一维度排序(0,1,2,3)\n",
    "    return sortedClassCount[0][0]  #找出频率最高的"
   ]
  },
  {
   "cell_type": "code",
   "execution_count": 2,
   "metadata": {},
   "outputs": [],
   "source": [
    "def file2matrix(filename):\n",
    "    fr = open(filename)\n",
    "    arrayOfLines = fr.readlines()\n",
    "    numberOfLines = len(arrayOfLines)\n",
    "    returnMat = np.zeros((numberOfLines, 3))\n",
    "    classLabelVector = []\n",
    "    index = 0\n",
    "    for line in arrayOfLines:\n",
    "        line = line.strip()\n",
    "        listFromLine = line.split('\\t')\n",
    "        returnMat[index,:] = listFromLine[0:3]\n",
    "        classLabelVector.append(int(listFromLine[-1]))\n",
    "        index += 1\n",
    "    return returnMat,classLabelVector"
   ]
  },
  {
   "cell_type": "code",
   "execution_count": 3,
   "metadata": {},
   "outputs": [],
   "source": [
    "datingDataMat, datingLabels = file2matrix('/home/jimmyli/mlpractice/机器学习实战/ch2/datingTestSet2.txt')"
   ]
  },
  {
   "cell_type": "code",
   "execution_count": 4,
   "metadata": {},
   "outputs": [
    {
     "data": {
      "text/plain": [
       "<Figure size 640x480 with 1 Axes>"
      ]
     },
     "metadata": {},
     "output_type": "display_data"
    }
   ],
   "source": [
    "import matplotlib\n",
    "import matplotlib.pyplot as plt\n",
    "fig = plt.figure()\n",
    "ax = fig.add_subplot(111)\n",
    "ax.scatter(datingDataMat[:,1], datingDataMat[:,2],\n",
    "          15.0*array(datingLabels), 15.0*array(datingLabels))\n",
    "plt.show()"
   ]
  },
  {
   "cell_type": "code",
   "execution_count": 5,
   "metadata": {},
   "outputs": [],
   "source": [
    "def autoNorm(dataSet):\n",
    "    minVals = dataSet.min(0)\n",
    "    maxVlas = dataSet.max(0)\n",
    "    ranges = maxVlas - minVals\n",
    "#     normDataSet = np.zeros(shape(dataSet))\n",
    "#     m = dataSet.shape[0]\n",
    "#     normDataSet = normDataSet/tile(ranges, (m,1))\n",
    "    normDataSet = dataSet - minVals\n",
    "    normDataSet = normDataSet/ranges\n",
    "    return normDataSet, ranges, minVals\n",
    "normMat, ranges, minVals = autoNorm(datingDataMat)"
   ]
  },
  {
   "cell_type": "code",
   "execution_count": 6,
   "metadata": {},
   "outputs": [],
   "source": [
    "normMat, ranges, minVals = autoNorm(datingDataMat)"
   ]
  },
  {
   "cell_type": "code",
   "execution_count": 7,
   "metadata": {},
   "outputs": [
    {
     "data": {
      "text/plain": [
       "array([[0.44832535, 0.39805139, 0.56233353],\n",
       "       [0.15873259, 0.34195467, 0.98724416],\n",
       "       [0.28542943, 0.06892523, 0.47449629],\n",
       "       ...,\n",
       "       [0.29115949, 0.50910294, 0.51079493],\n",
       "       [0.52711097, 0.43665451, 0.4290048 ],\n",
       "       [0.47940793, 0.3768091 , 0.78571804]])"
      ]
     },
     "execution_count": 7,
     "metadata": {},
     "output_type": "execute_result"
    }
   ],
   "source": [
    "normMat"
   ]
  },
  {
   "cell_type": "code",
   "execution_count": 8,
   "metadata": {},
   "outputs": [],
   "source": [
    "def datingClassTest():\n",
    "    hoRatio = 0.10\n",
    "    datingDataMat, datingLabels = file2matrix('/home/jimmyli/mlpractice/机器学习实战/ch2/datingTestSet2.txt')\n",
    "    normMat, ranges, minVals = autoNorm(datingDataMat)\n",
    "    m = normMat.shape[0]\n",
    "    numTestVecs = int(m*hoRatio)\n",
    "    errorCount = 0.0\n",
    "    for i in range(numTestVecs):\n",
    "        classifierResult = classify0(normMat[i,:],normMat[numTestVecs:m,:],\n",
    "                                    datingLabels[numTestVecs:m],3)\n",
    "        print(\"the classifier came back with: %d, the real answer is: %d\"\n",
    "             % (classifierResult, datingLabels[i]))\n",
    "        if (classifierResult != datingLabels[i]): errorCount += 1.0\n",
    "    print (\"the total error rate is: %f\" % (errorCount/float(numTestVecs)))"
   ]
  },
  {
   "cell_type": "code",
   "execution_count": 13,
   "metadata": {},
   "outputs": [
    {
     "name": "stdout",
     "output_type": "stream",
     "text": [
      "percentage of time spent palying video games?10\n",
      "frequent flier miles earned per year?10000\n",
      "liters of ice cream consumed per year?0.5\n",
      "You will probably like this person: in small doess\n"
     ]
    }
   ],
   "source": [
    "tmp_category = '/home/jimmyli/mlpractice/机器学习实战/'\n",
    "def classifyPerson():\n",
    "    resultList = ['not at all', 'in small doess', 'in large doses']\n",
    "    percentTats = float(input(\\\n",
    "                        \"percentage of time spent palying video games?\"))\n",
    "    ffMiles = float(input(\"frequent flier miles earned per year?\"))\n",
    "    iceCream = float(input(\"liters of ice cream consumed per year?\"))\n",
    "    datingDataMat, datingLabels = file2matrix(tmp_category + 'ch2/datingTestSet2.txt')\n",
    "    normMat, ranges, minVals = autoNorm(datingDataMat)\n",
    "    inArr = np.array([ffMiles, percentTats, iceCream])\n",
    "    classifierResult = classify0((inArr-minVals)/ranges,normMat, datingLabels, 3)\n",
    "    print(\"You will probably like this person:\",\n",
    "         resultList[classifierResult - 1])\n",
    "if __name__ == '__main__':\n",
    "    classifyPerson()"
   ]
  },
  {
   "cell_type": "code",
   "execution_count": 23,
   "metadata": {},
   "outputs": [
    {
     "data": {
      "text/plain": [
       "<function __main__.classifyPerson()>"
      ]
     },
     "execution_count": 23,
     "metadata": {},
     "output_type": "execute_result"
    }
   ],
   "source": [
    "classifyPerson"
   ]
  },
  {
   "cell_type": "markdown",
   "metadata": {},
   "source": [
    "#### 手写识别系统"
   ]
  },
  {
   "cell_type": "code",
   "execution_count": 14,
   "metadata": {},
   "outputs": [],
   "source": [
    "def img2vector(filename):\n",
    "    returnVect = np.zeros((1, 1024))\n",
    "    fr = open(filename)\n",
    "    for i in range(32):\n",
    "        lineStr = fr.readline()\n",
    "        for j in range(32):\n",
    "            returnVect[0, 32*i+j] = int(lineStr[j])\n",
    "    return returnVect"
   ]
  },
  {
   "cell_type": "code",
   "execution_count": 15,
   "metadata": {},
   "outputs": [],
   "source": [
    "testVector = img2vector(tmp_category + 'ch2/testDigits/0_13.txt')"
   ]
  },
  {
   "cell_type": "code",
   "execution_count": 16,
   "metadata": {},
   "outputs": [
    {
     "data": {
      "text/plain": [
       "array([0., 0., 0., 0., 0., 0., 0., 0., 0., 0., 0., 0., 0., 0., 1., 1., 1.,\n",
       "       1., 0., 0., 0., 0., 0., 0., 0., 0., 0., 0., 0., 0., 0.])"
      ]
     },
     "execution_count": 16,
     "metadata": {},
     "output_type": "execute_result"
    }
   ],
   "source": [
    "testVector[0,0:31]"
   ]
  },
  {
   "cell_type": "code",
   "execution_count": 22,
   "metadata": {},
   "outputs": [],
   "source": [
    "from os import listdir\n",
    "def handwritingClassTest():\n",
    "    hwLabels = []\n",
    "    trainingFileList = listdir(tmp_category + 'ch2/trainingDigits')\n",
    "    m = len(trainingFileList)\n",
    "    trainingMat = zeros((m, 1024))\n",
    "    for i in range(m):\n",
    "        fileNameStr = trainingFileList[i]\n",
    "        fileStr = fileNameStr.split('.')[0]\n",
    "        classNumStr = int(fileStr.split('_')[0])\n",
    "        hwLabels.append(classNumStr)\n",
    "        trainingMat[i,:] = img2vector(tmp_category + 'ch2/trainingDigits/%s' % fileNameStr)\n",
    "    testFileList = listdir('ch2/testDigits')\n",
    "    errorCount = 0.0\n",
    "    mTest = len(testFileList)\n",
    "    for i in range(mTest):\n",
    "        fileNameStr = testFileList[i]\n",
    "        fileStr = fileNameStr.split('.')[0]\n",
    "        classNumStr = int(fileStr.split('_')[0])\n",
    "        vectorUnderTest = img2vector('ch2/testDigits/%s' % fileNameStr)\n",
    "        classifierResult = classify0(vectorUnderTest, trainingMat,\n",
    "                                    hwLabels, 3)\n",
    "#         print('the classifier came back with: %d, the real answer\\\n",
    "#         is : %d' % (classifierResult, classNumStr))\n",
    "        if (classifierResult != classNumStr): errorCount += 1.0\n",
    "    print('\\n the total number of errors is: %d' % errorCount)\n",
    "    print('\\n the total error rate is: %f' % (errorCount/float(mTest)))"
   ]
  },
  {
   "cell_type": "code",
   "execution_count": 23,
   "metadata": {},
   "outputs": [
    {
     "name": "stdout",
     "output_type": "stream",
     "text": [
      "\n",
      " the total number of errors is: 11\n",
      "\n",
      " the total error rate is: 0.011628\n"
     ]
    }
   ],
   "source": [
    "handwritingClassTest()"
   ]
  }
 ],
 "metadata": {
  "kernelspec": {
   "display_name": "Python 3",
   "language": "python",
   "name": "python3"
  },
  "language_info": {
   "codemirror_mode": {
    "name": "ipython",
    "version": 3
   },
   "file_extension": ".py",
   "mimetype": "text/x-python",
   "name": "python",
   "nbconvert_exporter": "python",
   "pygments_lexer": "ipython3",
   "version": "3.6.5"
  }
 },
 "nbformat": 4,
 "nbformat_minor": 2
}
